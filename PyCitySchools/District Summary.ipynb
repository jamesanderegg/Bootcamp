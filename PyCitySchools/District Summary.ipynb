{
 "cells": [
  {
   "cell_type": "code",
   "execution_count": 1,
   "metadata": {},
   "outputs": [],
   "source": [
    "import pandas as pd"
   ]
  },
  {
   "cell_type": "code",
   "execution_count": 2,
   "metadata": {},
   "outputs": [],
   "source": [
    "file1= \"raw_data/schools_complete.csv\"\n",
    "file2= \"raw_data/students_complete.csv\"\n",
    "\n",
    "pd.options.display.float_format = '{:.0f}%'.format\n",
    "\n",
    "my_dict = {}\n",
    "ools = pd.read_csv(file1)\n",
    "dents = pd.read_csv(file2)"
   ]
  },
  {
   "cell_type": "code",
   "execution_count": 3,
   "metadata": {},
   "outputs": [],
   "source": [
    "dents = dents.rename(columns ={\"Student ID\":\"Student_ID\", \"name\":\"Full_Name\", \"gender\":\"Gender\",\"grade\":\"Grade\", \"school\":\"High_School\", \"reading_score\":\"Reading_Score\",\"math_score\":\"Math_Score\"})\n",
    "my_dict['Total Schools'] =dents[\"High_School\"].nunique()\n",
    "my_dict['Total Students'] = dents[\"Student_ID\"].count()\n",
    "my_dict['Total Budget'] = ools[\"budget\"].sum()\n",
    "my_dict['Avg Math Score'] = dents[\"Math_Score\"].mean()\n",
    "my_dict['Avg Reading_score'] = dents[\"Reading_Score\"].mean()\n",
    "\n"
   ]
  },
  {
   "cell_type": "code",
   "execution_count": 4,
   "metadata": {},
   "outputs": [],
   "source": [
    "def get_pass_fail(x):\n",
    "    \n",
    "    if x >= 70:\n",
    "        return 'Pass'\n",
    "    elif x < 70:\n",
    "        return 'Fail'\n",
    "dents['r_grade'] = dents['Reading_Score'].map(get_pass_fail)    \n",
    "dents['m_grade'] = dents['Math_Score'].map(get_pass_fail)\n"
   ]
  },
  {
   "cell_type": "code",
   "execution_count": 7,
   "metadata": {},
   "outputs": [
    {
     "data": {
      "text/plain": [
       "Pass    29370\n",
       "Fail     9800\n",
       "Name: m_grade, dtype: int64"
      ]
     },
     "execution_count": 7,
     "metadata": {},
     "output_type": "execute_result"
    }
   ],
   "source": [
    "dents['m_grade'].value_counts()"
   ]
  },
  {
   "cell_type": "code",
   "execution_count": 308,
   "metadata": {},
   "outputs": [],
   "source": [
    "my_dict['Percent Passing Math'] =(dents['m_grade'].value_counts()[0]/total_students)*100\n",
    "my_dict['Percent Passing Reading'] =(dents['r_grade'].value_counts()[0]/total_students)*100\n",
    "my_dict['Total Percent Passing'] = ((percent_passing_m*100) + (percent_passing_r*100)) / 2"
   ]
  },
  {
   "cell_type": "code",
   "execution_count": 309,
   "metadata": {},
   "outputs": [],
   "source": [
    "summary_df = pd.DataFrame(my_dict, index =[0])"
   ]
  },
  {
   "cell_type": "code",
   "execution_count": 310,
   "metadata": {},
   "outputs": [
    {
     "data": {
      "text/html": [
       "<div>\n",
       "<style scoped>\n",
       "    .dataframe tbody tr th:only-of-type {\n",
       "        vertical-align: middle;\n",
       "    }\n",
       "\n",
       "    .dataframe tbody tr th {\n",
       "        vertical-align: top;\n",
       "    }\n",
       "\n",
       "    .dataframe thead th {\n",
       "        text-align: right;\n",
       "    }\n",
       "</style>\n",
       "<table border=\"1\" class=\"dataframe\">\n",
       "  <thead>\n",
       "    <tr style=\"text-align: right;\">\n",
       "      <th></th>\n",
       "      <th>Total Schools</th>\n",
       "      <th>Total Students</th>\n",
       "      <th>Total Budget</th>\n",
       "      <th>Avg Math Score</th>\n",
       "      <th>Avg Reading_score</th>\n",
       "      <th>Percent Passing Math</th>\n",
       "      <th>Percent Passing Reading</th>\n",
       "      <th>Total Percent Passing</th>\n",
       "    </tr>\n",
       "  </thead>\n",
       "  <tbody>\n",
       "    <tr>\n",
       "      <th>0</th>\n",
       "      <td>15</td>\n",
       "      <td>39170</td>\n",
       "      <td>24649428</td>\n",
       "      <td>79%</td>\n",
       "      <td>82%</td>\n",
       "      <td>75%</td>\n",
       "      <td>86%</td>\n",
       "      <td>80%</td>\n",
       "    </tr>\n",
       "  </tbody>\n",
       "</table>\n",
       "</div>"
      ],
      "text/plain": [
       "   Total Schools  Total Students  Total Budget  Avg Math Score  \\\n",
       "0             15           39170      24649428             79%   \n",
       "\n",
       "   Avg Reading_score  Percent Passing Math  Percent Passing Reading  \\\n",
       "0                82%                   75%                      86%   \n",
       "\n",
       "   Total Percent Passing  \n",
       "0                    80%  "
      ]
     },
     "execution_count": 310,
     "metadata": {},
     "output_type": "execute_result"
    }
   ],
   "source": [
    "summary_df.head()"
   ]
  },
  {
   "cell_type": "code",
   "execution_count": null,
   "metadata": {},
   "outputs": [],
   "source": []
  }
 ],
 "metadata": {
  "kernelspec": {
   "display_name": "Python 3",
   "language": "python",
   "name": "python3"
  },
  "language_info": {
   "codemirror_mode": {
    "name": "ipython",
    "version": 3
   },
   "file_extension": ".py",
   "mimetype": "text/x-python",
   "name": "python",
   "nbconvert_exporter": "python",
   "pygments_lexer": "ipython3",
   "version": "3.6.4"
  }
 },
 "nbformat": 4,
 "nbformat_minor": 2
}
